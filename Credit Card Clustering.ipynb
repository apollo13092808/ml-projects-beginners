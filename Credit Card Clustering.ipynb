{
 "cells": [
  {
   "cell_type": "code",
   "execution_count": null,
   "metadata": {},
   "outputs": [],
   "source": [
    "import numpy as np\n",
    "import pandas as pd\n",
    "import plotly.graph_objects as go\n",
    "from sklearn.cluster import KMeans\n",
    "from sklearn.preprocessing import MinMaxScaler"
   ]
  },
  {
   "cell_type": "code",
   "execution_count": null,
   "metadata": {},
   "outputs": [],
   "source": [
    "df = pd.read_csv('data/credit_card_general.csv')\n",
    "df.head()"
   ]
  },
  {
   "cell_type": "code",
   "execution_count": null,
   "metadata": {},
   "outputs": [],
   "source": [
    "df.dropna(inplace=True)"
   ]
  },
  {
   "cell_type": "code",
   "execution_count": null,
   "metadata": {},
   "outputs": [],
   "source": [
    "df.info()"
   ]
  },
  {
   "cell_type": "code",
   "execution_count": null,
   "metadata": {},
   "outputs": [],
   "source": [
    "clustering_data = df[['BALANCE', 'PURCHASES', 'CREDIT_LIMIT']]\n",
    "\n",
    "for col in clustering_data.columns:\n",
    "    MinMaxScaler(col)"
   ]
  },
  {
   "cell_type": "code",
   "execution_count": null,
   "metadata": {},
   "outputs": [],
   "source": [
    "model = KMeans(n_clusters=5)\n",
    "clusters = model.fit_predict(clustering_data)\n",
    "df['CREDIT_CARD_SEGMENTS'] = clusters"
   ]
  },
  {
   "cell_type": "code",
   "execution_count": null,
   "metadata": {},
   "outputs": [],
   "source": [
    "df[\"CREDIT_CARD_SEGMENTS\"] = df[\"CREDIT_CARD_SEGMENTS\"].map({0: \"Cluster 1\",\n",
    "                                                             1: \"Cluster 2\",\n",
    "                                                             2: \"Cluster 3\",\n",
    "                                                             3: \"Cluster 4\",\n",
    "                                                             4: \"Cluster 5\"})\n",
    "\n",
    "df.head(10)"
   ]
  },
  {
   "cell_type": "code",
   "execution_count": null,
   "metadata": {},
   "outputs": [],
   "source": [
    "fig = go.Figure()\n",
    "\n",
    "for i in list(df['CREDIT_CARD_SEGMENTS'].unique()):\n",
    "    fig.add_trace(go.Scatter3d(mode='markers',\n",
    "                               name=str(i),\n",
    "                               x=df[df['CREDIT_CARD_SEGMENTS'] == i]['BALANCE'],\n",
    "                               y=df[df['CREDIT_CARD_SEGMENTS']\n",
    "                                    == i]['PURCHASES'],\n",
    "                               z=df[df['CREDIT_CARD_SEGMENTS']\n",
    "                                    == i]['CREDIT_LIMIT'],\n",
    "                               marker_size=6,\n",
    "                               marker_line_width=1))\n",
    "\n",
    "fig.update_traces(\n",
    "    hovertemplate='BALANCE: %{x} <br>PURCHASES %{y} <br>DCREDIT_LIMIT: %{z}')\n",
    "\n",
    "\n",
    "fig.update_layout(width=800, height=800, autosize=True, showlegend=True,\n",
    "                  scene=dict(xaxis=dict(title='BALANCE',\n",
    "                                        titlefont_color='black'),\n",
    "                             yaxis=dict(title='PURCHASES',\n",
    "                                        titlefont_color='black'),\n",
    "                             zaxis=dict(title='CREDIT_LIMIT',\n",
    "                                        titlefont_color='black')),\n",
    "                  font=dict(family=\"Gilroy\", color='black', size=12))"
   ]
  },
  {
   "cell_type": "code",
   "execution_count": null,
   "metadata": {},
   "outputs": [],
   "source": []
  }
 ],
 "metadata": {
  "kernelspec": {
   "display_name": ".venv",
   "language": "python",
   "name": "python3"
  },
  "language_info": {
   "codemirror_mode": {
    "name": "ipython",
    "version": 3
   },
   "file_extension": ".py",
   "mimetype": "text/x-python",
   "name": "python",
   "nbconvert_exporter": "python",
   "pygments_lexer": "ipython3",
   "version": "3.10.12"
  }
 },
 "nbformat": 4,
 "nbformat_minor": 2
}
