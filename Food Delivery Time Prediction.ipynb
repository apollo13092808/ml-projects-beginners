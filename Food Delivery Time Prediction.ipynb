{
 "cells": [
  {
   "cell_type": "code",
   "execution_count": null,
   "metadata": {},
   "outputs": [],
   "source": [
    "import numpy as np\n",
    "import pandas as pd\n",
    "import plotly.express as px\n",
    "from keras.models import Sequential\n",
    "from keras.layers import Dense, LSTM\n",
    "from sklearn.model_selection import train_test_split"
   ]
  },
  {
   "cell_type": "code",
   "execution_count": null,
   "metadata": {},
   "outputs": [],
   "source": [
    "df = pd.read_csv('data/delivery_time.txt')\n",
    "df.head()"
   ]
  },
  {
   "cell_type": "code",
   "execution_count": null,
   "metadata": {},
   "outputs": [],
   "source": [
    "df.info()"
   ]
  },
  {
   "cell_type": "code",
   "execution_count": null,
   "metadata": {},
   "outputs": [],
   "source": [
    "df.isnull().sum()"
   ]
  },
  {
   "cell_type": "code",
   "execution_count": null,
   "metadata": {},
   "outputs": [],
   "source": [
    "# Set the earth's radius (in kilometers)\n",
    "R = 6371\n",
    "\n",
    "\n",
    "# Convert degrees to radians\n",
    "def deg_to_rad(degrees):\n",
    "    return degrees * (np.pi / 180)\n",
    "\n",
    "\n",
    "# Function to calculate the distance between two points using the haversine formula\n",
    "def calculate_distance(lat1, lon1, lat2, lon2):\n",
    "    d_lat = deg_to_rad(lat2 - lat1)\n",
    "    d_lon = deg_to_rad(lon2 - lon1)\n",
    "    a = np.sin(d_lat / 2)**2 + np.cos(deg_to_rad(lat1)) * \\\n",
    "        np.cos(deg_to_rad(lat2)) * np.sin(d_lon/2)**2\n",
    "    c = 2 * np.arctan2(np.sqrt(a), np.sqrt(1 - a))\n",
    "    return R * c\n",
    "\n",
    "\n",
    "# Calculate the distance between each pair of points\n",
    "df['distance'] = np.nan\n",
    "\n",
    "for i in range(len(df)):\n",
    "    df.loc[i, 'distance'] = calculate_distance(df.loc[i, 'Restaurant_latitude'],\n",
    "                                               df.loc[i, 'Restaurant_longitude'],\n",
    "                                               df.loc[i, 'Delivery_location_latitude'],\n",
    "                                               df.loc[i, 'Delivery_location_longitude'])"
   ]
  },
  {
   "cell_type": "code",
   "execution_count": null,
   "metadata": {},
   "outputs": [],
   "source": [
    "df.head()"
   ]
  },
  {
   "cell_type": "code",
   "execution_count": null,
   "metadata": {},
   "outputs": [],
   "source": [
    "fig = px.scatter(data_frame=df,\n",
    "                 x='distance',\n",
    "                 y='Time_taken(min)',\n",
    "                 size='Time_taken(min)',\n",
    "                 trendline='ols',\n",
    "                 title='Relationship Between Distance and Time Taken',\n",
    "                 width=800,\n",
    "                 height=400)\n",
    "fig.show()"
   ]
  },
  {
   "cell_type": "code",
   "execution_count": null,
   "metadata": {},
   "outputs": [],
   "source": [
    "fig = px.scatter(data_frame=df,\n",
    "                 x='Delivery_person_Age',\n",
    "                 y='Time_taken(min)',\n",
    "                 color='distance',\n",
    "                 size='Time_taken(min)',\n",
    "                 trendline='ols',\n",
    "                 title='Relationship Between Age and Time Taken',\n",
    "                 width=800,\n",
    "                 height=400)\n",
    "fig.show()"
   ]
  },
  {
   "cell_type": "code",
   "execution_count": null,
   "metadata": {},
   "outputs": [],
   "source": [
    "fig = px.scatter(data_frame=df,\n",
    "                 x='Delivery_person_Ratings',\n",
    "                 y='Time_taken(min)',\n",
    "                 color='distance',\n",
    "                 size='Time_taken(min)',\n",
    "                 trendline='ols',\n",
    "                 title='Relationship Between Ratings and Time Taken',\n",
    "                 width=800,\n",
    "                 height=400)\n",
    "fig.show()"
   ]
  },
  {
   "cell_type": "code",
   "execution_count": null,
   "metadata": {},
   "outputs": [],
   "source": [
    "fig = px.box(data_frame=df,\n",
    "             x='Type_of_vehicle',\n",
    "             y='Time_taken(min)',\n",
    "             color='Type_of_order',\n",
    "             width=800,\n",
    "             height=400)\n",
    "fig.show()"
   ]
  },
  {
   "cell_type": "code",
   "execution_count": null,
   "metadata": {},
   "outputs": [],
   "source": [
    "X = np.array(\n",
    "    df[['Delivery_person_Age', 'Delivery_person_Ratings', 'distance']])\n",
    "y = np.array(df[['Time_taken(min)']])"
   ]
  },
  {
   "cell_type": "code",
   "execution_count": null,
   "metadata": {},
   "outputs": [],
   "source": [
    "X_train, X_test, y_train, y_test = train_test_split(X, y,\n",
    "                                                    test_size=0.10,\n",
    "                                                    random_state=7)"
   ]
  },
  {
   "cell_type": "code",
   "execution_count": null,
   "metadata": {},
   "outputs": [],
   "source": [
    "model = Sequential()\n",
    "model.add(layer=LSTM(units=128,\n",
    "                     return_sequences=True,\n",
    "                     input_shape=(X_train.shape[1], 1)))\n",
    "model.add(layer=LSTM(units=64, return_sequences=False))\n",
    "model.add(layer=Dense(units=32))\n",
    "model.add(layer=Dense(units=1))"
   ]
  },
  {
   "cell_type": "code",
   "execution_count": null,
   "metadata": {},
   "outputs": [],
   "source": [
    "model.compile(optimizer='adam', loss='mean_squared_error')\n",
    "model.fit(X_train, y_train, batch_size=1, epochs=10, verbose=0)"
   ]
  },
  {
   "cell_type": "code",
   "execution_count": null,
   "metadata": {},
   "outputs": [],
   "source": [
    "a, b, c = 29, 2.9, 6\n",
    "\n",
    "print(f\"       Age of Delivery Partner: {a}\")\n",
    "print(f\"Ratings of Previous Deliveries: {b}\")\n",
    "print(f\"                Total Distance: {c}\")\n",
    "\n",
    "features = np.array([[a, b, c]])\n",
    "predicted = model.predict(features, verbose=0)[0][0]\n",
    "print(f\"Predicted Delivery Time in Minutes = {int(predicted)} mins\")"
   ]
  },
  {
   "cell_type": "code",
   "execution_count": null,
   "metadata": {},
   "outputs": [],
   "source": []
  }
 ],
 "metadata": {
  "kernelspec": {
   "display_name": ".venv",
   "language": "python",
   "name": "python3"
  },
  "language_info": {
   "codemirror_mode": {
    "name": "ipython",
    "version": 3
   },
   "file_extension": ".py",
   "mimetype": "text/x-python",
   "name": "python",
   "nbconvert_exporter": "python",
   "pygments_lexer": "ipython3",
   "version": "3.10.12"
  }
 },
 "nbformat": 4,
 "nbformat_minor": 2
}
