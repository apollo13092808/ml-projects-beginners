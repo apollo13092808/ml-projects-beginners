{
 "cells": [
  {
   "cell_type": "markdown",
   "metadata": {},
   "source": [
    "## Import libraries"
   ]
  },
  {
   "cell_type": "code",
   "execution_count": null,
   "metadata": {},
   "outputs": [],
   "source": [
    "import warnings\n",
    "import numpy as np\n",
    "import pandas as pd\n",
    "import plotly.io as pio\n",
    "import plotly.express as px\n",
    "import plotly.graph_objects as go\n",
    "from sklearn.ensemble import RandomForestClassifier\n",
    "from sklearn.model_selection import train_test_split"
   ]
  },
  {
   "cell_type": "code",
   "execution_count": null,
   "metadata": {},
   "outputs": [],
   "source": [
    "pio.templates.default = 'seaborn'"
   ]
  },
  {
   "cell_type": "code",
   "execution_count": null,
   "metadata": {},
   "outputs": [],
   "source": [
    "warnings.filterwarnings(action='ignore')"
   ]
  },
  {
   "cell_type": "code",
   "execution_count": null,
   "metadata": {},
   "outputs": [],
   "source": [
    "df = pd.read_csv('data/credit_score.csv')\n",
    "df.head()"
   ]
  },
  {
   "cell_type": "code",
   "execution_count": null,
   "metadata": {},
   "outputs": [],
   "source": [
    "df.info()"
   ]
  },
  {
   "cell_type": "code",
   "execution_count": null,
   "metadata": {},
   "outputs": [],
   "source": [
    "df.isnull().sum()"
   ]
  },
  {
   "cell_type": "code",
   "execution_count": null,
   "metadata": {},
   "outputs": [],
   "source": [
    "df['Credit_Score'].value_counts()"
   ]
  },
  {
   "cell_type": "markdown",
   "metadata": {},
   "source": [
    "## Explore data"
   ]
  },
  {
   "cell_type": "code",
   "execution_count": null,
   "metadata": {},
   "outputs": [],
   "source": [
    "fig = px.box(data_frame=df,\n",
    "             x='Occupation',\n",
    "             color='Credit_Score',\n",
    "             color_discrete_map={'Poor': '#dc3545',\n",
    "                                 'Standard': '#ffc107',\n",
    "                                 'Good': '#28a745'},\n",
    "             title='Credit Score based on Occupation',\n",
    "             width=800,\n",
    "             height=400)\n",
    "fig.show()"
   ]
  },
  {
   "cell_type": "code",
   "execution_count": null,
   "metadata": {},
   "outputs": [],
   "source": [
    "fig = px.box(data_frame=df,\n",
    "             x='Credit_Score',\n",
    "             y='Annual_Income',\n",
    "             color='Credit_Score',\n",
    "             color_discrete_map={'Poor': '#dc3545',\n",
    "                                 'Standard': '#ffc107',\n",
    "                                 'Good': '#28a745'},\n",
    "             title='Credit Score based on Annual Income',\n",
    "             width=800,\n",
    "             height=400)\n",
    "fig.update_traces(quartilemethod='exclusive')\n",
    "fig.show()"
   ]
  },
  {
   "cell_type": "code",
   "execution_count": null,
   "metadata": {},
   "outputs": [],
   "source": [
    "fig = px.box(data_frame=df,\n",
    "             x='Credit_Score',\n",
    "             y='Monthly_Inhand_Salary',\n",
    "             color='Credit_Score',\n",
    "             color_discrete_map={'Poor': '#dc3545',\n",
    "                                 'Standard': '#ffc107',\n",
    "                                 'Good': '#28a745'},\n",
    "             title='Credit Score based on Monthly Inhand Salary',\n",
    "             width=800,\n",
    "             height=400)\n",
    "fig.update_traces(quartilemethod='exclusive')\n",
    "fig.show()"
   ]
  },
  {
   "cell_type": "code",
   "execution_count": null,
   "metadata": {},
   "outputs": [],
   "source": [
    "fig = px.box(data_frame=df,\n",
    "             x='Credit_Score',\n",
    "             y='Num_Bank_Accounts',\n",
    "             color='Credit_Score',\n",
    "             color_discrete_map={'Poor': '#dc3545',\n",
    "                                 'Standard': '#ffc107',\n",
    "                                 'Good': '#28a745'},\n",
    "             title='Credit Score based on Number of Bank Accounts',\n",
    "             width=800,\n",
    "             height=400)\n",
    "fig.update_traces(quartilemethod='exclusive')\n",
    "fig.show()"
   ]
  },
  {
   "cell_type": "code",
   "execution_count": null,
   "metadata": {},
   "outputs": [],
   "source": [
    "fig = px.box(data_frame=df,\n",
    "             x='Credit_Score',\n",
    "             y='Num_Credit_Card',\n",
    "             color='Credit_Score',\n",
    "             color_discrete_map={'Poor': '#dc3545',\n",
    "                                 'Standard': '#ffc107',\n",
    "                                 'Good': '#28a745'},\n",
    "             title='Credit Score based on Number of Credit Cards',\n",
    "             width=800,\n",
    "             height=400)\n",
    "fig.update_traces(quartilemethod='exclusive')\n",
    "fig.show()"
   ]
  },
  {
   "cell_type": "code",
   "execution_count": null,
   "metadata": {},
   "outputs": [],
   "source": [
    "fig = px.box(data_frame=df,\n",
    "             x='Credit_Score',\n",
    "             y='Interest_Rate',\n",
    "             color='Credit_Score',\n",
    "             color_discrete_map={'Poor': '#dc3545',\n",
    "                                 'Standard': '#ffc107',\n",
    "                                 'Good': '#28a745'},\n",
    "             title='Credit Score based on the Average Interest rate',\n",
    "             width=800,\n",
    "             height=400)\n",
    "fig.update_traces(quartilemethod='exclusive')\n",
    "fig.show()"
   ]
  },
  {
   "cell_type": "code",
   "execution_count": null,
   "metadata": {},
   "outputs": [],
   "source": [
    "fig = px.box(data_frame=df,\n",
    "             x='Credit_Score',\n",
    "             y='Num_of_Loan',\n",
    "             color='Credit_Score',\n",
    "             color_discrete_map={'Poor': '#dc3545',\n",
    "                                 'Standard': '#ffc107',\n",
    "                                 'Good': '#28a745'},\n",
    "             title='Credit Score based on Number of Loans Taken by the Person',\n",
    "             width=800,\n",
    "             height=400)\n",
    "fig.update_traces(quartilemethod='exclusive')\n",
    "fig.show()"
   ]
  },
  {
   "cell_type": "code",
   "execution_count": null,
   "metadata": {},
   "outputs": [],
   "source": [
    "fig = px.box(data_frame=df,\n",
    "             x='Credit_Score',\n",
    "             y='Delay_from_due_date',\n",
    "             color='Credit_Score',\n",
    "             color_discrete_map={'Poor': '#dc3545',\n",
    "                                 'Standard': '#ffc107',\n",
    "                                 'Good': '#28a745'},\n",
    "             title='Credit Score based on Average Number of Days Delayed for Credit card Payments',\n",
    "             width=800,\n",
    "             height=400)\n",
    "fig.update_traces(quartilemethod='exclusive')\n",
    "fig.show()"
   ]
  },
  {
   "cell_type": "code",
   "execution_count": null,
   "metadata": {},
   "outputs": [],
   "source": [
    "fig = px.box(data_frame=df,\n",
    "             x='Credit_Score',\n",
    "             y='Num_of_Delayed_Payment',\n",
    "             color='Credit_Score',\n",
    "             color_discrete_map={'Poor': '#dc3545',\n",
    "                                 'Standard': '#ffc107',\n",
    "                                 'Good': '#28a745'},\n",
    "             title='Credit Score based on Number of Delayed Payments',\n",
    "             width=800,\n",
    "             height=400)\n",
    "fig.update_traces(quartilemethod='exclusive')\n",
    "fig.show()"
   ]
  },
  {
   "cell_type": "code",
   "execution_count": null,
   "metadata": {},
   "outputs": [],
   "source": [
    "fig = px.box(data_frame=df,\n",
    "             x='Credit_Score',\n",
    "             y='Outstanding_Debt',\n",
    "             color='Credit_Score',\n",
    "             color_discrete_map={'Poor': '#dc3545',\n",
    "                                 'Standard': '#ffc107',\n",
    "                                 'Good': '#28a745'},\n",
    "             title='Credit Score based on Outstanding Debt',\n",
    "             width=800,\n",
    "             height=400)\n",
    "fig.update_traces(quartilemethod='exclusive')\n",
    "fig.show()"
   ]
  },
  {
   "cell_type": "code",
   "execution_count": null,
   "metadata": {},
   "outputs": [],
   "source": [
    "fig = px.box(data_frame=df,\n",
    "             x='Credit_Score',\n",
    "             y='Credit_Utilization_Ratio',\n",
    "             color='Credit_Score',\n",
    "             color_discrete_map={'Poor': '#dc3545',\n",
    "                                 'Standard': '#ffc107',\n",
    "                                 'Good': '#28a745'},\n",
    "             title='Credit Score based on Credit Utilization Ratio',\n",
    "             width=800,\n",
    "             height=400)\n",
    "fig.update_traces(quartilemethod='exclusive')\n",
    "fig.show()"
   ]
  },
  {
   "cell_type": "code",
   "execution_count": null,
   "metadata": {},
   "outputs": [],
   "source": [
    "fig = px.box(data_frame=df,\n",
    "             x='Credit_Score',\n",
    "             y='Credit_History_Age',\n",
    "             color='Credit_Score',\n",
    "             color_discrete_map={'Poor': '#dc3545',\n",
    "                                 'Standard': '#ffc107',\n",
    "                                 'Good': '#28a745'},\n",
    "             title='Credit Score based on Credit History Age',\n",
    "             width=800,\n",
    "             height=400)\n",
    "fig.update_traces(quartilemethod='exclusive')\n",
    "fig.show()"
   ]
  },
  {
   "cell_type": "code",
   "execution_count": null,
   "metadata": {},
   "outputs": [],
   "source": [
    "fig = px.box(data_frame=df,\n",
    "             x='Credit_Score',\n",
    "             y='Total_EMI_per_month',\n",
    "             color='Credit_Score',\n",
    "             color_discrete_map={'Poor': '#dc3545',\n",
    "                                 'Standard': '#ffc107',\n",
    "                                 'Good': '#28a745'},\n",
    "             title='Credit Score based on Total Number of EMIs per Month',\n",
    "             width=800,\n",
    "             height=400)\n",
    "fig.update_traces(quartilemethod='exclusive')\n",
    "fig.show()"
   ]
  },
  {
   "cell_type": "code",
   "execution_count": null,
   "metadata": {},
   "outputs": [],
   "source": [
    "fig = px.box(data_frame=df,\n",
    "             x='Credit_Score',\n",
    "             y='Amount_invested_monthly',\n",
    "             color='Credit_Score',\n",
    "             color_discrete_map={'Poor': '#dc3545',\n",
    "                                 'Standard': '#ffc107',\n",
    "                                 'Good': '#28a745'},\n",
    "             title='Credit Score based on Amount Invested Monthly',\n",
    "             width=800,\n",
    "             height=400)\n",
    "fig.update_traces(quartilemethod='exclusive')\n",
    "fig.show()"
   ]
  },
  {
   "cell_type": "code",
   "execution_count": null,
   "metadata": {},
   "outputs": [],
   "source": [
    "fig = px.box(data_frame=df,\n",
    "             x='Credit_Score',\n",
    "             y='Monthly_Balance',\n",
    "             color='Credit_Score',\n",
    "             color_discrete_map={'Poor': '#dc3545',\n",
    "                                 'Standard': '#ffc107',\n",
    "                                 'Good': '#28a745'},\n",
    "             title='Credit Score based on Monthly  Balance left',\n",
    "             width=800,\n",
    "             height=400)\n",
    "fig.update_traces(quartilemethod='exclusive')\n",
    "fig.show()"
   ]
  },
  {
   "cell_type": "markdown",
   "metadata": {},
   "source": [
    "## Classification Model"
   ]
  },
  {
   "cell_type": "code",
   "execution_count": null,
   "metadata": {},
   "outputs": [],
   "source": [
    "df['Credit_Mix'] = df['Credit_Mix'].map({'Bad': 0, 'Standard': 1, 'Good': 2})"
   ]
  },
  {
   "cell_type": "code",
   "execution_count": null,
   "metadata": {},
   "outputs": [],
   "source": [
    "X = np.array(df[[\"Annual_Income\", \"Monthly_Inhand_Salary\",\n",
    "                 \"Num_Bank_Accounts\", \"Num_Credit_Card\",\n",
    "                 \"Interest_Rate\", \"Num_of_Loan\",\n",
    "                 \"Delay_from_due_date\", \"Num_of_Delayed_Payment\",\n",
    "                 \"Credit_Mix\", \"Outstanding_Debt\",\n",
    "                 \"Credit_History_Age\", \"Monthly_Balance\"]])\n",
    "\n",
    "y = np.array(df[[\"Credit_Score\"]])"
   ]
  },
  {
   "cell_type": "code",
   "execution_count": null,
   "metadata": {},
   "outputs": [],
   "source": [
    "X_train, X_test, y_train, y_test = train_test_split(X, y, test_size=0.3, random_state=42)\n",
    "\n",
    "model = RandomForestClassifier()\n",
    "model.fit(X_train, y_train)"
   ]
  },
  {
   "cell_type": "code",
   "execution_count": null,
   "metadata": {},
   "outputs": [],
   "source": [
    "print(\"Credit Score Classifier:\")\n",
    "a = float(input(\"Annual Income: \"))\n",
    "b = float(input(\"Monthly Inhand Salary: \"))\n",
    "c = float(input(\"Number of Bank Accounts: \"))\n",
    "d = float(input(\"Number of Credit cards: \"))\n",
    "e = float(input(\"Interest rate: \"))\n",
    "f = float(input(\"Number of Loans: \"))\n",
    "g = float(input(\"Average number of days delayed by the person: \"))\n",
    "h = float(input(\"Number of delayed payments: \"))\n",
    "i = input(\"Credit Mix (Bad: 0, Standard: 1, Good: 3) : \")\n",
    "j = float(input(\"Outstanding Debt: \"))\n",
    "k = float(input(\"Credit History Age: \"))\n",
    "l = float(input(\"Monthly Balance: \"))\n",
    "\n",
    "features = np.array([[a, b, c, d, e, f, g, h, i, j, k, l]])\n",
    "print(\"\\nPredicted Credit Score =\", model.predict(features)[0])"
   ]
  },
  {
   "cell_type": "code",
   "execution_count": null,
   "metadata": {},
   "outputs": [],
   "source": []
  }
 ],
 "metadata": {
  "kernelspec": {
   "display_name": ".venv",
   "language": "python",
   "name": "python3"
  },
  "language_info": {
   "codemirror_mode": {
    "name": "ipython",
    "version": 3
   },
   "file_extension": ".py",
   "mimetype": "text/x-python",
   "name": "python",
   "nbconvert_exporter": "python",
   "pygments_lexer": "ipython3",
   "version": "3.10.12"
  }
 },
 "nbformat": 4,
 "nbformat_minor": 2
}
