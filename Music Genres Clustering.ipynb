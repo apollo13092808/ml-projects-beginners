{
 "cells": [
  {
   "cell_type": "code",
   "execution_count": null,
   "metadata": {},
   "outputs": [],
   "source": [
    "import numpy as np\n",
    "import pandas as pd\n",
    "import plotly.graph_objects as go\n",
    "from sklearn.cluster import KMeans\n",
    "from sklearn.preprocessing import MinMaxScaler"
   ]
  },
  {
   "cell_type": "code",
   "execution_count": null,
   "metadata": {},
   "outputs": [],
   "source": [
    "df = pd.read_csv('data/Spotify-2000.csv')\n",
    "df.drop(columns=['Index'], axis=1, inplace=True)\n",
    "df.head()"
   ]
  },
  {
   "cell_type": "code",
   "execution_count": null,
   "metadata": {},
   "outputs": [],
   "source": [
    "df.corr(numeric_only=True)"
   ]
  },
  {
   "cell_type": "code",
   "execution_count": null,
   "metadata": {},
   "outputs": [],
   "source": [
    "data = df[['Beats Per Minute (BPM)', 'Loudness (dB)', 'Liveness',\n",
    "           'Valence', 'Acousticness', 'Speechiness']]\n",
    "\n",
    "for i in df.columns:\n",
    "    MinMaxScaler(i)"
   ]
  },
  {
   "cell_type": "code",
   "execution_count": null,
   "metadata": {},
   "outputs": [],
   "source": [
    "kmeans = KMeans(n_clusters=10)\n",
    "clusters = kmeans.fit_predict(data)"
   ]
  },
  {
   "cell_type": "code",
   "execution_count": null,
   "metadata": {},
   "outputs": [],
   "source": [
    "data[\"Music Segments\"] = clusters\n",
    "\n",
    "MinMaxScaler(data[\"Music Segments\"])\n",
    "\n",
    "data[\"Music Segments\"] = data[\"Music Segments\"].map({0: \"Cluster 1\",\n",
    "                                                     1: \"Cluster 2\",\n",
    "                                                     2: \"Cluster 3\",\n",
    "                                                     3: \"Cluster 4\",\n",
    "                                                     4: \"Cluster 5\",\n",
    "                                                     5: \"Cluster 6\",\n",
    "                                                     6: \"Cluster 7\",\n",
    "                                                     7: \"Cluster 8\",\n",
    "                                                     8: \"Cluster 9\",\n",
    "                                                     9: \"Cluster 10\"})"
   ]
  },
  {
   "cell_type": "code",
   "execution_count": null,
   "metadata": {},
   "outputs": [],
   "source": [
    "data.head()"
   ]
  },
  {
   "cell_type": "code",
   "execution_count": null,
   "metadata": {},
   "outputs": [],
   "source": [
    "fig = go.Figure()\n",
    "\n",
    "for i in list(data[\"Music Segments\"].unique()):\n",
    "    fig.add_trace(go.Scatter3d(x=data[data[\"Music Segments\"] == i]['Beats Per Minute (BPM)'],\n",
    "                               y=data[data[\"Music Segments\"] == i]['Energy'],\n",
    "                               z=data[data[\"Music Segments\"]\n",
    "                                      == i]['Danceability'],\n",
    "                               mode='markers', marker_size=6, marker_line_width=1,\n",
    "                               name=str(i)))\n",
    "\n",
    "fig.update_traces(\n",
    "    hovertemplate='Beats Per Minute (BPM): %{x} <br>Energy: %{y} <br>Danceability: %{z}')\n",
    "\n",
    "\n",
    "fig.update_layout(width=800, height=800,\n",
    "                  autosize=True,\n",
    "                  showlegend=True,\n",
    "                  scene=dict(xaxis=dict(title='Beats Per Minute (BPM)',\n",
    "                                        titlefont_color='black'),\n",
    "                             yaxis=dict(title='Energy',\n",
    "                                        titlefont_color='black'),\n",
    "                             zaxis=dict(title='Danceability',\n",
    "                                        titlefont_color='black')),\n",
    "                  font=dict(family=\"Gilroy\", color='black', size=12))"
   ]
  },
  {
   "cell_type": "code",
   "execution_count": null,
   "metadata": {},
   "outputs": [],
   "source": []
  }
 ],
 "metadata": {
  "kernelspec": {
   "display_name": ".venv",
   "language": "python",
   "name": "python3"
  },
  "language_info": {
   "codemirror_mode": {
    "name": "ipython",
    "version": 3
   },
   "file_extension": ".py",
   "mimetype": "text/x-python",
   "name": "python",
   "nbconvert_exporter": "python",
   "pygments_lexer": "ipython3",
   "version": "3.10.12"
  }
 },
 "nbformat": 4,
 "nbformat_minor": 2
}
